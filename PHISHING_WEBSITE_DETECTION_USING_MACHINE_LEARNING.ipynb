{
  "nbformat": 4,
  "nbformat_minor": 0,
  "metadata": {
    "kernelspec": {
      "display_name": "Python 3",
      "language": "python",
      "name": "python3"
    },
    "language_info": {
      "codemirror_mode": {
        "name": "ipython",
        "version": 3
      },
      "file_extension": ".py",
      "mimetype": "text/x-python",
      "name": "python",
      "nbconvert_exporter": "python",
      "pygments_lexer": "ipython3",
      "version": "3.7.6"
    },
    "colab": {
      "name": "PHISHING WEBSITE DETECTION USING MACHINE LEARNING.ipynb",
      "provenance": []
    }
  },
  "cells": [
    {
      "cell_type": "markdown",
      "metadata": {
        "id": "0uVNamPMmVWB"
      },
      "source": [
        "# PHISHING WEBSITE DETECTION USING MACHINE LEARNING"
      ]
    },
    {
      "cell_type": "code",
      "metadata": {
        "id": "aQlCSiV8mVWE",
        "outputId": "3538a8ed-560e-42d3-a0ac-cc1fd73acf89"
      },
      "source": [
        "pwd"
      ],
      "execution_count": null,
      "outputs": [
        {
          "output_type": "execute_result",
          "data": {
            "text/plain": [
              "'D:\\\\DMBI(Mini-Project)'"
            ]
          },
          "metadata": {
            "tags": []
          },
          "execution_count": 33
        }
      ]
    },
    {
      "cell_type": "markdown",
      "metadata": {
        "id": "OMScKittmVWH"
      },
      "source": [
        "# Importing libraries"
      ]
    },
    {
      "cell_type": "code",
      "metadata": {
        "id": "ib6V6BRgmVWH"
      },
      "source": [
        "# from scipy.io import arff\n",
        "import pandas as pd\n",
        "import numpy as np\n",
        "import seaborn as sns\n",
        "import matplotlib.pyplot as plt"
      ],
      "execution_count": null,
      "outputs": []
    },
    {
      "cell_type": "markdown",
      "metadata": {
        "id": "5pElZGRpmVWI"
      },
      "source": [
        "# Loading and reading the dataset"
      ]
    },
    {
      "cell_type": "code",
      "metadata": {
        "id": "FgLiLKtimVWI"
      },
      "source": [
        "#Reading the file\n",
        "\n",
        "df = pd.read_csv('dataset.csv')"
      ],
      "execution_count": null,
      "outputs": []
    },
    {
      "cell_type": "code",
      "metadata": {
        "id": "bL80CYpVmVWI",
        "outputId": "99f65fbc-a5e2-4cc2-c847-1d687533cbeb"
      },
      "source": [
        "#Displaying the first five rows of the dataset\n",
        "\n",
        "df.head()"
      ],
      "execution_count": null,
      "outputs": [
        {
          "output_type": "execute_result",
          "data": {
            "text/html": [
              "<div>\n",
              "<style scoped>\n",
              "    .dataframe tbody tr th:only-of-type {\n",
              "        vertical-align: middle;\n",
              "    }\n",
              "\n",
              "    .dataframe tbody tr th {\n",
              "        vertical-align: top;\n",
              "    }\n",
              "\n",
              "    .dataframe thead th {\n",
              "        text-align: right;\n",
              "    }\n",
              "</style>\n",
              "<table border=\"1\" class=\"dataframe\">\n",
              "  <thead>\n",
              "    <tr style=\"text-align: right;\">\n",
              "      <th></th>\n",
              "      <th>index</th>\n",
              "      <th>having_IP_Address</th>\n",
              "      <th>URL_Length</th>\n",
              "      <th>Shortening_Service</th>\n",
              "      <th>having_At_Symbol</th>\n",
              "      <th>double_slash_redirecting</th>\n",
              "      <th>Prefix_Suffix</th>\n",
              "      <th>having_Sub_Domain</th>\n",
              "      <th>SSLfinal_State</th>\n",
              "      <th>Domain_registeration_length</th>\n",
              "      <th>...</th>\n",
              "      <th>popUpWidnow</th>\n",
              "      <th>Iframe</th>\n",
              "      <th>age_of_domain</th>\n",
              "      <th>DNSRecord</th>\n",
              "      <th>web_traffic</th>\n",
              "      <th>Page_Rank</th>\n",
              "      <th>Google_Index</th>\n",
              "      <th>Links_pointing_to_page</th>\n",
              "      <th>Statistical_report</th>\n",
              "      <th>Result</th>\n",
              "    </tr>\n",
              "  </thead>\n",
              "  <tbody>\n",
              "    <tr>\n",
              "      <th>0</th>\n",
              "      <td>1</td>\n",
              "      <td>-1</td>\n",
              "      <td>1</td>\n",
              "      <td>1</td>\n",
              "      <td>1</td>\n",
              "      <td>-1</td>\n",
              "      <td>-1</td>\n",
              "      <td>-1</td>\n",
              "      <td>-1</td>\n",
              "      <td>-1</td>\n",
              "      <td>...</td>\n",
              "      <td>1</td>\n",
              "      <td>1</td>\n",
              "      <td>-1</td>\n",
              "      <td>-1</td>\n",
              "      <td>-1</td>\n",
              "      <td>-1</td>\n",
              "      <td>1</td>\n",
              "      <td>1</td>\n",
              "      <td>-1</td>\n",
              "      <td>-1</td>\n",
              "    </tr>\n",
              "    <tr>\n",
              "      <th>1</th>\n",
              "      <td>2</td>\n",
              "      <td>1</td>\n",
              "      <td>1</td>\n",
              "      <td>1</td>\n",
              "      <td>1</td>\n",
              "      <td>1</td>\n",
              "      <td>-1</td>\n",
              "      <td>0</td>\n",
              "      <td>1</td>\n",
              "      <td>-1</td>\n",
              "      <td>...</td>\n",
              "      <td>1</td>\n",
              "      <td>1</td>\n",
              "      <td>-1</td>\n",
              "      <td>-1</td>\n",
              "      <td>0</td>\n",
              "      <td>-1</td>\n",
              "      <td>1</td>\n",
              "      <td>1</td>\n",
              "      <td>1</td>\n",
              "      <td>-1</td>\n",
              "    </tr>\n",
              "    <tr>\n",
              "      <th>2</th>\n",
              "      <td>3</td>\n",
              "      <td>1</td>\n",
              "      <td>0</td>\n",
              "      <td>1</td>\n",
              "      <td>1</td>\n",
              "      <td>1</td>\n",
              "      <td>-1</td>\n",
              "      <td>-1</td>\n",
              "      <td>-1</td>\n",
              "      <td>-1</td>\n",
              "      <td>...</td>\n",
              "      <td>1</td>\n",
              "      <td>1</td>\n",
              "      <td>1</td>\n",
              "      <td>-1</td>\n",
              "      <td>1</td>\n",
              "      <td>-1</td>\n",
              "      <td>1</td>\n",
              "      <td>0</td>\n",
              "      <td>-1</td>\n",
              "      <td>-1</td>\n",
              "    </tr>\n",
              "    <tr>\n",
              "      <th>3</th>\n",
              "      <td>4</td>\n",
              "      <td>1</td>\n",
              "      <td>0</td>\n",
              "      <td>1</td>\n",
              "      <td>1</td>\n",
              "      <td>1</td>\n",
              "      <td>-1</td>\n",
              "      <td>-1</td>\n",
              "      <td>-1</td>\n",
              "      <td>1</td>\n",
              "      <td>...</td>\n",
              "      <td>1</td>\n",
              "      <td>1</td>\n",
              "      <td>-1</td>\n",
              "      <td>-1</td>\n",
              "      <td>1</td>\n",
              "      <td>-1</td>\n",
              "      <td>1</td>\n",
              "      <td>-1</td>\n",
              "      <td>1</td>\n",
              "      <td>-1</td>\n",
              "    </tr>\n",
              "    <tr>\n",
              "      <th>4</th>\n",
              "      <td>5</td>\n",
              "      <td>1</td>\n",
              "      <td>0</td>\n",
              "      <td>-1</td>\n",
              "      <td>1</td>\n",
              "      <td>1</td>\n",
              "      <td>-1</td>\n",
              "      <td>1</td>\n",
              "      <td>1</td>\n",
              "      <td>-1</td>\n",
              "      <td>...</td>\n",
              "      <td>-1</td>\n",
              "      <td>1</td>\n",
              "      <td>-1</td>\n",
              "      <td>-1</td>\n",
              "      <td>0</td>\n",
              "      <td>-1</td>\n",
              "      <td>1</td>\n",
              "      <td>1</td>\n",
              "      <td>1</td>\n",
              "      <td>1</td>\n",
              "    </tr>\n",
              "  </tbody>\n",
              "</table>\n",
              "<p>5 rows × 32 columns</p>\n",
              "</div>"
            ],
            "text/plain": [
              "   index  having_IP_Address  URL_Length  Shortening_Service  having_At_Symbol  \\\n",
              "0      1                 -1           1                   1                 1   \n",
              "1      2                  1           1                   1                 1   \n",
              "2      3                  1           0                   1                 1   \n",
              "3      4                  1           0                   1                 1   \n",
              "4      5                  1           0                  -1                 1   \n",
              "\n",
              "   double_slash_redirecting  Prefix_Suffix  having_Sub_Domain  SSLfinal_State  \\\n",
              "0                        -1             -1                 -1              -1   \n",
              "1                         1             -1                  0               1   \n",
              "2                         1             -1                 -1              -1   \n",
              "3                         1             -1                 -1              -1   \n",
              "4                         1             -1                  1               1   \n",
              "\n",
              "   Domain_registeration_length  ...  popUpWidnow  Iframe  age_of_domain  \\\n",
              "0                           -1  ...            1       1             -1   \n",
              "1                           -1  ...            1       1             -1   \n",
              "2                           -1  ...            1       1              1   \n",
              "3                            1  ...            1       1             -1   \n",
              "4                           -1  ...           -1       1             -1   \n",
              "\n",
              "   DNSRecord  web_traffic  Page_Rank  Google_Index  Links_pointing_to_page  \\\n",
              "0         -1           -1         -1             1                       1   \n",
              "1         -1            0         -1             1                       1   \n",
              "2         -1            1         -1             1                       0   \n",
              "3         -1            1         -1             1                      -1   \n",
              "4         -1            0         -1             1                       1   \n",
              "\n",
              "   Statistical_report  Result  \n",
              "0                  -1      -1  \n",
              "1                   1      -1  \n",
              "2                  -1      -1  \n",
              "3                   1      -1  \n",
              "4                   1       1  \n",
              "\n",
              "[5 rows x 32 columns]"
            ]
          },
          "metadata": {
            "tags": []
          },
          "execution_count": 36
        }
      ]
    },
    {
      "cell_type": "code",
      "metadata": {
        "id": "33GDR5AImVWJ",
        "outputId": "3bf6580b-ded1-40cc-c7c3-4afd6a5130f1"
      },
      "source": [
        "df.shape"
      ],
      "execution_count": null,
      "outputs": [
        {
          "output_type": "execute_result",
          "data": {
            "text/plain": [
              "(11055, 32)"
            ]
          },
          "metadata": {
            "tags": []
          },
          "execution_count": 37
        }
      ]
    },
    {
      "cell_type": "code",
      "metadata": {
        "id": "qlOkD2ILmVWJ",
        "outputId": "ce3c52cc-9e6b-42a3-9d13-7484a92619c6"
      },
      "source": [
        "df.columns"
      ],
      "execution_count": null,
      "outputs": [
        {
          "output_type": "execute_result",
          "data": {
            "text/plain": [
              "Index(['index', 'having_IP_Address', 'URL_Length', 'Shortening_Service',\n",
              "       'having_At_Symbol', 'double_slash_redirecting', 'Prefix_Suffix',\n",
              "       'having_Sub_Domain', 'SSLfinal_State', 'Domain_registeration_length',\n",
              "       'Favicon', 'port', 'HTTPS_token', 'Request_URL', 'URL_of_Anchor',\n",
              "       'Links_in_tags', 'SFH', 'Submitting_to_email', 'Abnormal_URL',\n",
              "       'Redirect', 'on_mouseover', 'RightClick', 'popUpWidnow', 'Iframe',\n",
              "       'age_of_domain', 'DNSRecord', 'web_traffic', 'Page_Rank',\n",
              "       'Google_Index', 'Links_pointing_to_page', 'Statistical_report',\n",
              "       'Result'],\n",
              "      dtype='object')"
            ]
          },
          "metadata": {
            "tags": []
          },
          "execution_count": 38
        }
      ]
    },
    {
      "cell_type": "code",
      "metadata": {
        "id": "WRGj0JFfmVWK",
        "outputId": "a49ac3d7-0dba-40ff-fe51-a40c0202cd2c"
      },
      "source": [
        "#To check whether there are any missing values or not\n",
        "\n",
        "df.info()"
      ],
      "execution_count": null,
      "outputs": [
        {
          "output_type": "stream",
          "text": [
            "<class 'pandas.core.frame.DataFrame'>\n",
            "RangeIndex: 11055 entries, 0 to 11054\n",
            "Data columns (total 32 columns):\n",
            " #   Column                       Non-Null Count  Dtype\n",
            "---  ------                       --------------  -----\n",
            " 0   index                        11055 non-null  int64\n",
            " 1   having_IP_Address            11055 non-null  int64\n",
            " 2   URL_Length                   11055 non-null  int64\n",
            " 3   Shortening_Service           11055 non-null  int64\n",
            " 4   having_At_Symbol             11055 non-null  int64\n",
            " 5   double_slash_redirecting     11055 non-null  int64\n",
            " 6   Prefix_Suffix                11055 non-null  int64\n",
            " 7   having_Sub_Domain            11055 non-null  int64\n",
            " 8   SSLfinal_State               11055 non-null  int64\n",
            " 9   Domain_registeration_length  11055 non-null  int64\n",
            " 10  Favicon                      11055 non-null  int64\n",
            " 11  port                         11055 non-null  int64\n",
            " 12  HTTPS_token                  11055 non-null  int64\n",
            " 13  Request_URL                  11055 non-null  int64\n",
            " 14  URL_of_Anchor                11055 non-null  int64\n",
            " 15  Links_in_tags                11055 non-null  int64\n",
            " 16  SFH                          11055 non-null  int64\n",
            " 17  Submitting_to_email          11055 non-null  int64\n",
            " 18  Abnormal_URL                 11055 non-null  int64\n",
            " 19  Redirect                     11055 non-null  int64\n",
            " 20  on_mouseover                 11055 non-null  int64\n",
            " 21  RightClick                   11055 non-null  int64\n",
            " 22  popUpWidnow                  11055 non-null  int64\n",
            " 23  Iframe                       11055 non-null  int64\n",
            " 24  age_of_domain                11055 non-null  int64\n",
            " 25  DNSRecord                    11055 non-null  int64\n",
            " 26  web_traffic                  11055 non-null  int64\n",
            " 27  Page_Rank                    11055 non-null  int64\n",
            " 28  Google_Index                 11055 non-null  int64\n",
            " 29  Links_pointing_to_page       11055 non-null  int64\n",
            " 30  Statistical_report           11055 non-null  int64\n",
            " 31  Result                       11055 non-null  int64\n",
            "dtypes: int64(32)\n",
            "memory usage: 2.7 MB\n"
          ],
          "name": "stdout"
        }
      ]
    },
    {
      "cell_type": "markdown",
      "metadata": {
        "id": "TwFVXeSAmVWK"
      },
      "source": [
        "# Data Preprocessing\n",
        "Here, we clean the data by applying data preprocesssing techniques and transform the data to use it in the models."
      ]
    },
    {
      "cell_type": "code",
      "metadata": {
        "scrolled": true,
        "id": "N2yEc2wFmVWL",
        "outputId": "940274f5-ec4a-4f22-daaa-14992c67f27c"
      },
      "source": [
        "#Displaying a stastical summary of the dataset\n",
        "df.describe()"
      ],
      "execution_count": null,
      "outputs": [
        {
          "output_type": "execute_result",
          "data": {
            "text/html": [
              "<div>\n",
              "<style scoped>\n",
              "    .dataframe tbody tr th:only-of-type {\n",
              "        vertical-align: middle;\n",
              "    }\n",
              "\n",
              "    .dataframe tbody tr th {\n",
              "        vertical-align: top;\n",
              "    }\n",
              "\n",
              "    .dataframe thead th {\n",
              "        text-align: right;\n",
              "    }\n",
              "</style>\n",
              "<table border=\"1\" class=\"dataframe\">\n",
              "  <thead>\n",
              "    <tr style=\"text-align: right;\">\n",
              "      <th></th>\n",
              "      <th>index</th>\n",
              "      <th>having_IP_Address</th>\n",
              "      <th>URL_Length</th>\n",
              "      <th>Shortening_Service</th>\n",
              "      <th>having_At_Symbol</th>\n",
              "      <th>double_slash_redirecting</th>\n",
              "      <th>Prefix_Suffix</th>\n",
              "      <th>having_Sub_Domain</th>\n",
              "      <th>SSLfinal_State</th>\n",
              "      <th>Domain_registeration_length</th>\n",
              "      <th>...</th>\n",
              "      <th>popUpWidnow</th>\n",
              "      <th>Iframe</th>\n",
              "      <th>age_of_domain</th>\n",
              "      <th>DNSRecord</th>\n",
              "      <th>web_traffic</th>\n",
              "      <th>Page_Rank</th>\n",
              "      <th>Google_Index</th>\n",
              "      <th>Links_pointing_to_page</th>\n",
              "      <th>Statistical_report</th>\n",
              "      <th>Result</th>\n",
              "    </tr>\n",
              "  </thead>\n",
              "  <tbody>\n",
              "    <tr>\n",
              "      <th>count</th>\n",
              "      <td>11055.000000</td>\n",
              "      <td>11055.000000</td>\n",
              "      <td>11055.000000</td>\n",
              "      <td>11055.000000</td>\n",
              "      <td>11055.000000</td>\n",
              "      <td>11055.000000</td>\n",
              "      <td>11055.000000</td>\n",
              "      <td>11055.000000</td>\n",
              "      <td>11055.000000</td>\n",
              "      <td>11055.000000</td>\n",
              "      <td>...</td>\n",
              "      <td>11055.000000</td>\n",
              "      <td>11055.000000</td>\n",
              "      <td>11055.000000</td>\n",
              "      <td>11055.000000</td>\n",
              "      <td>11055.000000</td>\n",
              "      <td>11055.000000</td>\n",
              "      <td>11055.000000</td>\n",
              "      <td>11055.000000</td>\n",
              "      <td>11055.000000</td>\n",
              "      <td>11055.000000</td>\n",
              "    </tr>\n",
              "    <tr>\n",
              "      <th>mean</th>\n",
              "      <td>5528.000000</td>\n",
              "      <td>0.313795</td>\n",
              "      <td>-0.633198</td>\n",
              "      <td>0.738761</td>\n",
              "      <td>0.700588</td>\n",
              "      <td>0.741474</td>\n",
              "      <td>-0.734962</td>\n",
              "      <td>0.063953</td>\n",
              "      <td>0.250927</td>\n",
              "      <td>-0.336771</td>\n",
              "      <td>...</td>\n",
              "      <td>0.613388</td>\n",
              "      <td>0.816915</td>\n",
              "      <td>0.061239</td>\n",
              "      <td>0.377114</td>\n",
              "      <td>0.287291</td>\n",
              "      <td>-0.483673</td>\n",
              "      <td>0.721574</td>\n",
              "      <td>0.344007</td>\n",
              "      <td>0.719584</td>\n",
              "      <td>0.113885</td>\n",
              "    </tr>\n",
              "    <tr>\n",
              "      <th>std</th>\n",
              "      <td>3191.447947</td>\n",
              "      <td>0.949534</td>\n",
              "      <td>0.766095</td>\n",
              "      <td>0.673998</td>\n",
              "      <td>0.713598</td>\n",
              "      <td>0.671011</td>\n",
              "      <td>0.678139</td>\n",
              "      <td>0.817518</td>\n",
              "      <td>0.911892</td>\n",
              "      <td>0.941629</td>\n",
              "      <td>...</td>\n",
              "      <td>0.789818</td>\n",
              "      <td>0.576784</td>\n",
              "      <td>0.998168</td>\n",
              "      <td>0.926209</td>\n",
              "      <td>0.827733</td>\n",
              "      <td>0.875289</td>\n",
              "      <td>0.692369</td>\n",
              "      <td>0.569944</td>\n",
              "      <td>0.694437</td>\n",
              "      <td>0.993539</td>\n",
              "    </tr>\n",
              "    <tr>\n",
              "      <th>min</th>\n",
              "      <td>1.000000</td>\n",
              "      <td>-1.000000</td>\n",
              "      <td>-1.000000</td>\n",
              "      <td>-1.000000</td>\n",
              "      <td>-1.000000</td>\n",
              "      <td>-1.000000</td>\n",
              "      <td>-1.000000</td>\n",
              "      <td>-1.000000</td>\n",
              "      <td>-1.000000</td>\n",
              "      <td>-1.000000</td>\n",
              "      <td>...</td>\n",
              "      <td>-1.000000</td>\n",
              "      <td>-1.000000</td>\n",
              "      <td>-1.000000</td>\n",
              "      <td>-1.000000</td>\n",
              "      <td>-1.000000</td>\n",
              "      <td>-1.000000</td>\n",
              "      <td>-1.000000</td>\n",
              "      <td>-1.000000</td>\n",
              "      <td>-1.000000</td>\n",
              "      <td>-1.000000</td>\n",
              "    </tr>\n",
              "    <tr>\n",
              "      <th>25%</th>\n",
              "      <td>2764.500000</td>\n",
              "      <td>-1.000000</td>\n",
              "      <td>-1.000000</td>\n",
              "      <td>1.000000</td>\n",
              "      <td>1.000000</td>\n",
              "      <td>1.000000</td>\n",
              "      <td>-1.000000</td>\n",
              "      <td>-1.000000</td>\n",
              "      <td>-1.000000</td>\n",
              "      <td>-1.000000</td>\n",
              "      <td>...</td>\n",
              "      <td>1.000000</td>\n",
              "      <td>1.000000</td>\n",
              "      <td>-1.000000</td>\n",
              "      <td>-1.000000</td>\n",
              "      <td>0.000000</td>\n",
              "      <td>-1.000000</td>\n",
              "      <td>1.000000</td>\n",
              "      <td>0.000000</td>\n",
              "      <td>1.000000</td>\n",
              "      <td>-1.000000</td>\n",
              "    </tr>\n",
              "    <tr>\n",
              "      <th>50%</th>\n",
              "      <td>5528.000000</td>\n",
              "      <td>1.000000</td>\n",
              "      <td>-1.000000</td>\n",
              "      <td>1.000000</td>\n",
              "      <td>1.000000</td>\n",
              "      <td>1.000000</td>\n",
              "      <td>-1.000000</td>\n",
              "      <td>0.000000</td>\n",
              "      <td>1.000000</td>\n",
              "      <td>-1.000000</td>\n",
              "      <td>...</td>\n",
              "      <td>1.000000</td>\n",
              "      <td>1.000000</td>\n",
              "      <td>1.000000</td>\n",
              "      <td>1.000000</td>\n",
              "      <td>1.000000</td>\n",
              "      <td>-1.000000</td>\n",
              "      <td>1.000000</td>\n",
              "      <td>0.000000</td>\n",
              "      <td>1.000000</td>\n",
              "      <td>1.000000</td>\n",
              "    </tr>\n",
              "    <tr>\n",
              "      <th>75%</th>\n",
              "      <td>8291.500000</td>\n",
              "      <td>1.000000</td>\n",
              "      <td>-1.000000</td>\n",
              "      <td>1.000000</td>\n",
              "      <td>1.000000</td>\n",
              "      <td>1.000000</td>\n",
              "      <td>-1.000000</td>\n",
              "      <td>1.000000</td>\n",
              "      <td>1.000000</td>\n",
              "      <td>1.000000</td>\n",
              "      <td>...</td>\n",
              "      <td>1.000000</td>\n",
              "      <td>1.000000</td>\n",
              "      <td>1.000000</td>\n",
              "      <td>1.000000</td>\n",
              "      <td>1.000000</td>\n",
              "      <td>1.000000</td>\n",
              "      <td>1.000000</td>\n",
              "      <td>1.000000</td>\n",
              "      <td>1.000000</td>\n",
              "      <td>1.000000</td>\n",
              "    </tr>\n",
              "    <tr>\n",
              "      <th>max</th>\n",
              "      <td>11055.000000</td>\n",
              "      <td>1.000000</td>\n",
              "      <td>1.000000</td>\n",
              "      <td>1.000000</td>\n",
              "      <td>1.000000</td>\n",
              "      <td>1.000000</td>\n",
              "      <td>1.000000</td>\n",
              "      <td>1.000000</td>\n",
              "      <td>1.000000</td>\n",
              "      <td>1.000000</td>\n",
              "      <td>...</td>\n",
              "      <td>1.000000</td>\n",
              "      <td>1.000000</td>\n",
              "      <td>1.000000</td>\n",
              "      <td>1.000000</td>\n",
              "      <td>1.000000</td>\n",
              "      <td>1.000000</td>\n",
              "      <td>1.000000</td>\n",
              "      <td>1.000000</td>\n",
              "      <td>1.000000</td>\n",
              "      <td>1.000000</td>\n",
              "    </tr>\n",
              "  </tbody>\n",
              "</table>\n",
              "<p>8 rows × 32 columns</p>\n",
              "</div>"
            ],
            "text/plain": [
              "              index  having_IP_Address    URL_Length  Shortening_Service  \\\n",
              "count  11055.000000       11055.000000  11055.000000        11055.000000   \n",
              "mean    5528.000000           0.313795     -0.633198            0.738761   \n",
              "std     3191.447947           0.949534      0.766095            0.673998   \n",
              "min        1.000000          -1.000000     -1.000000           -1.000000   \n",
              "25%     2764.500000          -1.000000     -1.000000            1.000000   \n",
              "50%     5528.000000           1.000000     -1.000000            1.000000   \n",
              "75%     8291.500000           1.000000     -1.000000            1.000000   \n",
              "max    11055.000000           1.000000      1.000000            1.000000   \n",
              "\n",
              "       having_At_Symbol  double_slash_redirecting  Prefix_Suffix  \\\n",
              "count      11055.000000              11055.000000   11055.000000   \n",
              "mean           0.700588                  0.741474      -0.734962   \n",
              "std            0.713598                  0.671011       0.678139   \n",
              "min           -1.000000                 -1.000000      -1.000000   \n",
              "25%            1.000000                  1.000000      -1.000000   \n",
              "50%            1.000000                  1.000000      -1.000000   \n",
              "75%            1.000000                  1.000000      -1.000000   \n",
              "max            1.000000                  1.000000       1.000000   \n",
              "\n",
              "       having_Sub_Domain  SSLfinal_State  Domain_registeration_length  ...  \\\n",
              "count       11055.000000    11055.000000                 11055.000000  ...   \n",
              "mean            0.063953        0.250927                    -0.336771  ...   \n",
              "std             0.817518        0.911892                     0.941629  ...   \n",
              "min            -1.000000       -1.000000                    -1.000000  ...   \n",
              "25%            -1.000000       -1.000000                    -1.000000  ...   \n",
              "50%             0.000000        1.000000                    -1.000000  ...   \n",
              "75%             1.000000        1.000000                     1.000000  ...   \n",
              "max             1.000000        1.000000                     1.000000  ...   \n",
              "\n",
              "        popUpWidnow        Iframe  age_of_domain     DNSRecord   web_traffic  \\\n",
              "count  11055.000000  11055.000000   11055.000000  11055.000000  11055.000000   \n",
              "mean       0.613388      0.816915       0.061239      0.377114      0.287291   \n",
              "std        0.789818      0.576784       0.998168      0.926209      0.827733   \n",
              "min       -1.000000     -1.000000      -1.000000     -1.000000     -1.000000   \n",
              "25%        1.000000      1.000000      -1.000000     -1.000000      0.000000   \n",
              "50%        1.000000      1.000000       1.000000      1.000000      1.000000   \n",
              "75%        1.000000      1.000000       1.000000      1.000000      1.000000   \n",
              "max        1.000000      1.000000       1.000000      1.000000      1.000000   \n",
              "\n",
              "          Page_Rank  Google_Index  Links_pointing_to_page  Statistical_report  \\\n",
              "count  11055.000000  11055.000000            11055.000000        11055.000000   \n",
              "mean      -0.483673      0.721574                0.344007            0.719584   \n",
              "std        0.875289      0.692369                0.569944            0.694437   \n",
              "min       -1.000000     -1.000000               -1.000000           -1.000000   \n",
              "25%       -1.000000      1.000000                0.000000            1.000000   \n",
              "50%       -1.000000      1.000000                0.000000            1.000000   \n",
              "75%        1.000000      1.000000                1.000000            1.000000   \n",
              "max        1.000000      1.000000                1.000000            1.000000   \n",
              "\n",
              "             Result  \n",
              "count  11055.000000  \n",
              "mean       0.113885  \n",
              "std        0.993539  \n",
              "min       -1.000000  \n",
              "25%       -1.000000  \n",
              "50%        1.000000  \n",
              "75%        1.000000  \n",
              "max        1.000000  \n",
              "\n",
              "[8 rows x 32 columns]"
            ]
          },
          "metadata": {
            "tags": []
          },
          "execution_count": 40
        }
      ]
    },
    {
      "cell_type": "code",
      "metadata": {
        "id": "T0WU-wWOmVWL"
      },
      "source": [
        "\n",
        "df.drop('index',axis=1,inplace=True)"
      ],
      "execution_count": null,
      "outputs": []
    },
    {
      "cell_type": "code",
      "metadata": {
        "id": "j0e5FBIDmVWL",
        "outputId": "5ad3d1bb-aee6-46ba-dfd0-c2fe858cae15"
      },
      "source": [
        "df.head()"
      ],
      "execution_count": null,
      "outputs": [
        {
          "output_type": "execute_result",
          "data": {
            "text/html": [
              "<div>\n",
              "<style scoped>\n",
              "    .dataframe tbody tr th:only-of-type {\n",
              "        vertical-align: middle;\n",
              "    }\n",
              "\n",
              "    .dataframe tbody tr th {\n",
              "        vertical-align: top;\n",
              "    }\n",
              "\n",
              "    .dataframe thead th {\n",
              "        text-align: right;\n",
              "    }\n",
              "</style>\n",
              "<table border=\"1\" class=\"dataframe\">\n",
              "  <thead>\n",
              "    <tr style=\"text-align: right;\">\n",
              "      <th></th>\n",
              "      <th>having_IP_Address</th>\n",
              "      <th>URL_Length</th>\n",
              "      <th>Shortening_Service</th>\n",
              "      <th>having_At_Symbol</th>\n",
              "      <th>double_slash_redirecting</th>\n",
              "      <th>Prefix_Suffix</th>\n",
              "      <th>having_Sub_Domain</th>\n",
              "      <th>SSLfinal_State</th>\n",
              "      <th>Domain_registeration_length</th>\n",
              "      <th>Favicon</th>\n",
              "      <th>...</th>\n",
              "      <th>popUpWidnow</th>\n",
              "      <th>Iframe</th>\n",
              "      <th>age_of_domain</th>\n",
              "      <th>DNSRecord</th>\n",
              "      <th>web_traffic</th>\n",
              "      <th>Page_Rank</th>\n",
              "      <th>Google_Index</th>\n",
              "      <th>Links_pointing_to_page</th>\n",
              "      <th>Statistical_report</th>\n",
              "      <th>Result</th>\n",
              "    </tr>\n",
              "  </thead>\n",
              "  <tbody>\n",
              "    <tr>\n",
              "      <th>0</th>\n",
              "      <td>-1</td>\n",
              "      <td>1</td>\n",
              "      <td>1</td>\n",
              "      <td>1</td>\n",
              "      <td>-1</td>\n",
              "      <td>-1</td>\n",
              "      <td>-1</td>\n",
              "      <td>-1</td>\n",
              "      <td>-1</td>\n",
              "      <td>1</td>\n",
              "      <td>...</td>\n",
              "      <td>1</td>\n",
              "      <td>1</td>\n",
              "      <td>-1</td>\n",
              "      <td>-1</td>\n",
              "      <td>-1</td>\n",
              "      <td>-1</td>\n",
              "      <td>1</td>\n",
              "      <td>1</td>\n",
              "      <td>-1</td>\n",
              "      <td>-1</td>\n",
              "    </tr>\n",
              "    <tr>\n",
              "      <th>1</th>\n",
              "      <td>1</td>\n",
              "      <td>1</td>\n",
              "      <td>1</td>\n",
              "      <td>1</td>\n",
              "      <td>1</td>\n",
              "      <td>-1</td>\n",
              "      <td>0</td>\n",
              "      <td>1</td>\n",
              "      <td>-1</td>\n",
              "      <td>1</td>\n",
              "      <td>...</td>\n",
              "      <td>1</td>\n",
              "      <td>1</td>\n",
              "      <td>-1</td>\n",
              "      <td>-1</td>\n",
              "      <td>0</td>\n",
              "      <td>-1</td>\n",
              "      <td>1</td>\n",
              "      <td>1</td>\n",
              "      <td>1</td>\n",
              "      <td>-1</td>\n",
              "    </tr>\n",
              "    <tr>\n",
              "      <th>2</th>\n",
              "      <td>1</td>\n",
              "      <td>0</td>\n",
              "      <td>1</td>\n",
              "      <td>1</td>\n",
              "      <td>1</td>\n",
              "      <td>-1</td>\n",
              "      <td>-1</td>\n",
              "      <td>-1</td>\n",
              "      <td>-1</td>\n",
              "      <td>1</td>\n",
              "      <td>...</td>\n",
              "      <td>1</td>\n",
              "      <td>1</td>\n",
              "      <td>1</td>\n",
              "      <td>-1</td>\n",
              "      <td>1</td>\n",
              "      <td>-1</td>\n",
              "      <td>1</td>\n",
              "      <td>0</td>\n",
              "      <td>-1</td>\n",
              "      <td>-1</td>\n",
              "    </tr>\n",
              "    <tr>\n",
              "      <th>3</th>\n",
              "      <td>1</td>\n",
              "      <td>0</td>\n",
              "      <td>1</td>\n",
              "      <td>1</td>\n",
              "      <td>1</td>\n",
              "      <td>-1</td>\n",
              "      <td>-1</td>\n",
              "      <td>-1</td>\n",
              "      <td>1</td>\n",
              "      <td>1</td>\n",
              "      <td>...</td>\n",
              "      <td>1</td>\n",
              "      <td>1</td>\n",
              "      <td>-1</td>\n",
              "      <td>-1</td>\n",
              "      <td>1</td>\n",
              "      <td>-1</td>\n",
              "      <td>1</td>\n",
              "      <td>-1</td>\n",
              "      <td>1</td>\n",
              "      <td>-1</td>\n",
              "    </tr>\n",
              "    <tr>\n",
              "      <th>4</th>\n",
              "      <td>1</td>\n",
              "      <td>0</td>\n",
              "      <td>-1</td>\n",
              "      <td>1</td>\n",
              "      <td>1</td>\n",
              "      <td>-1</td>\n",
              "      <td>1</td>\n",
              "      <td>1</td>\n",
              "      <td>-1</td>\n",
              "      <td>1</td>\n",
              "      <td>...</td>\n",
              "      <td>-1</td>\n",
              "      <td>1</td>\n",
              "      <td>-1</td>\n",
              "      <td>-1</td>\n",
              "      <td>0</td>\n",
              "      <td>-1</td>\n",
              "      <td>1</td>\n",
              "      <td>1</td>\n",
              "      <td>1</td>\n",
              "      <td>1</td>\n",
              "    </tr>\n",
              "  </tbody>\n",
              "</table>\n",
              "<p>5 rows × 31 columns</p>\n",
              "</div>"
            ],
            "text/plain": [
              "   having_IP_Address  URL_Length  Shortening_Service  having_At_Symbol  \\\n",
              "0                 -1           1                   1                 1   \n",
              "1                  1           1                   1                 1   \n",
              "2                  1           0                   1                 1   \n",
              "3                  1           0                   1                 1   \n",
              "4                  1           0                  -1                 1   \n",
              "\n",
              "   double_slash_redirecting  Prefix_Suffix  having_Sub_Domain  SSLfinal_State  \\\n",
              "0                        -1             -1                 -1              -1   \n",
              "1                         1             -1                  0               1   \n",
              "2                         1             -1                 -1              -1   \n",
              "3                         1             -1                 -1              -1   \n",
              "4                         1             -1                  1               1   \n",
              "\n",
              "   Domain_registeration_length  Favicon  ...  popUpWidnow  Iframe  \\\n",
              "0                           -1        1  ...            1       1   \n",
              "1                           -1        1  ...            1       1   \n",
              "2                           -1        1  ...            1       1   \n",
              "3                            1        1  ...            1       1   \n",
              "4                           -1        1  ...           -1       1   \n",
              "\n",
              "   age_of_domain  DNSRecord  web_traffic  Page_Rank  Google_Index  \\\n",
              "0             -1         -1           -1         -1             1   \n",
              "1             -1         -1            0         -1             1   \n",
              "2              1         -1            1         -1             1   \n",
              "3             -1         -1            1         -1             1   \n",
              "4             -1         -1            0         -1             1   \n",
              "\n",
              "   Links_pointing_to_page  Statistical_report  Result  \n",
              "0                       1                  -1      -1  \n",
              "1                       1                   1      -1  \n",
              "2                       0                  -1      -1  \n",
              "3                      -1                   1      -1  \n",
              "4                       1                   1       1  \n",
              "\n",
              "[5 rows x 31 columns]"
            ]
          },
          "metadata": {
            "tags": []
          },
          "execution_count": 42
        }
      ]
    },
    {
      "cell_type": "code",
      "metadata": {
        "id": "HK3FjeobmVWM",
        "outputId": "be129cb0-ed9e-46ef-e7fd-d8b5aaef1c60"
      },
      "source": [
        "df.describe()"
      ],
      "execution_count": null,
      "outputs": [
        {
          "output_type": "execute_result",
          "data": {
            "text/html": [
              "<div>\n",
              "<style scoped>\n",
              "    .dataframe tbody tr th:only-of-type {\n",
              "        vertical-align: middle;\n",
              "    }\n",
              "\n",
              "    .dataframe tbody tr th {\n",
              "        vertical-align: top;\n",
              "    }\n",
              "\n",
              "    .dataframe thead th {\n",
              "        text-align: right;\n",
              "    }\n",
              "</style>\n",
              "<table border=\"1\" class=\"dataframe\">\n",
              "  <thead>\n",
              "    <tr style=\"text-align: right;\">\n",
              "      <th></th>\n",
              "      <th>having_IP_Address</th>\n",
              "      <th>URL_Length</th>\n",
              "      <th>Shortening_Service</th>\n",
              "      <th>having_At_Symbol</th>\n",
              "      <th>double_slash_redirecting</th>\n",
              "      <th>Prefix_Suffix</th>\n",
              "      <th>having_Sub_Domain</th>\n",
              "      <th>SSLfinal_State</th>\n",
              "      <th>Domain_registeration_length</th>\n",
              "      <th>Favicon</th>\n",
              "      <th>...</th>\n",
              "      <th>popUpWidnow</th>\n",
              "      <th>Iframe</th>\n",
              "      <th>age_of_domain</th>\n",
              "      <th>DNSRecord</th>\n",
              "      <th>web_traffic</th>\n",
              "      <th>Page_Rank</th>\n",
              "      <th>Google_Index</th>\n",
              "      <th>Links_pointing_to_page</th>\n",
              "      <th>Statistical_report</th>\n",
              "      <th>Result</th>\n",
              "    </tr>\n",
              "  </thead>\n",
              "  <tbody>\n",
              "    <tr>\n",
              "      <th>count</th>\n",
              "      <td>11055.000000</td>\n",
              "      <td>11055.000000</td>\n",
              "      <td>11055.000000</td>\n",
              "      <td>11055.000000</td>\n",
              "      <td>11055.000000</td>\n",
              "      <td>11055.000000</td>\n",
              "      <td>11055.000000</td>\n",
              "      <td>11055.000000</td>\n",
              "      <td>11055.000000</td>\n",
              "      <td>11055.000000</td>\n",
              "      <td>...</td>\n",
              "      <td>11055.000000</td>\n",
              "      <td>11055.000000</td>\n",
              "      <td>11055.000000</td>\n",
              "      <td>11055.000000</td>\n",
              "      <td>11055.000000</td>\n",
              "      <td>11055.000000</td>\n",
              "      <td>11055.000000</td>\n",
              "      <td>11055.000000</td>\n",
              "      <td>11055.000000</td>\n",
              "      <td>11055.000000</td>\n",
              "    </tr>\n",
              "    <tr>\n",
              "      <th>mean</th>\n",
              "      <td>0.313795</td>\n",
              "      <td>-0.633198</td>\n",
              "      <td>0.738761</td>\n",
              "      <td>0.700588</td>\n",
              "      <td>0.741474</td>\n",
              "      <td>-0.734962</td>\n",
              "      <td>0.063953</td>\n",
              "      <td>0.250927</td>\n",
              "      <td>-0.336771</td>\n",
              "      <td>0.628584</td>\n",
              "      <td>...</td>\n",
              "      <td>0.613388</td>\n",
              "      <td>0.816915</td>\n",
              "      <td>0.061239</td>\n",
              "      <td>0.377114</td>\n",
              "      <td>0.287291</td>\n",
              "      <td>-0.483673</td>\n",
              "      <td>0.721574</td>\n",
              "      <td>0.344007</td>\n",
              "      <td>0.719584</td>\n",
              "      <td>0.113885</td>\n",
              "    </tr>\n",
              "    <tr>\n",
              "      <th>std</th>\n",
              "      <td>0.949534</td>\n",
              "      <td>0.766095</td>\n",
              "      <td>0.673998</td>\n",
              "      <td>0.713598</td>\n",
              "      <td>0.671011</td>\n",
              "      <td>0.678139</td>\n",
              "      <td>0.817518</td>\n",
              "      <td>0.911892</td>\n",
              "      <td>0.941629</td>\n",
              "      <td>0.777777</td>\n",
              "      <td>...</td>\n",
              "      <td>0.789818</td>\n",
              "      <td>0.576784</td>\n",
              "      <td>0.998168</td>\n",
              "      <td>0.926209</td>\n",
              "      <td>0.827733</td>\n",
              "      <td>0.875289</td>\n",
              "      <td>0.692369</td>\n",
              "      <td>0.569944</td>\n",
              "      <td>0.694437</td>\n",
              "      <td>0.993539</td>\n",
              "    </tr>\n",
              "    <tr>\n",
              "      <th>min</th>\n",
              "      <td>-1.000000</td>\n",
              "      <td>-1.000000</td>\n",
              "      <td>-1.000000</td>\n",
              "      <td>-1.000000</td>\n",
              "      <td>-1.000000</td>\n",
              "      <td>-1.000000</td>\n",
              "      <td>-1.000000</td>\n",
              "      <td>-1.000000</td>\n",
              "      <td>-1.000000</td>\n",
              "      <td>-1.000000</td>\n",
              "      <td>...</td>\n",
              "      <td>-1.000000</td>\n",
              "      <td>-1.000000</td>\n",
              "      <td>-1.000000</td>\n",
              "      <td>-1.000000</td>\n",
              "      <td>-1.000000</td>\n",
              "      <td>-1.000000</td>\n",
              "      <td>-1.000000</td>\n",
              "      <td>-1.000000</td>\n",
              "      <td>-1.000000</td>\n",
              "      <td>-1.000000</td>\n",
              "    </tr>\n",
              "    <tr>\n",
              "      <th>25%</th>\n",
              "      <td>-1.000000</td>\n",
              "      <td>-1.000000</td>\n",
              "      <td>1.000000</td>\n",
              "      <td>1.000000</td>\n",
              "      <td>1.000000</td>\n",
              "      <td>-1.000000</td>\n",
              "      <td>-1.000000</td>\n",
              "      <td>-1.000000</td>\n",
              "      <td>-1.000000</td>\n",
              "      <td>1.000000</td>\n",
              "      <td>...</td>\n",
              "      <td>1.000000</td>\n",
              "      <td>1.000000</td>\n",
              "      <td>-1.000000</td>\n",
              "      <td>-1.000000</td>\n",
              "      <td>0.000000</td>\n",
              "      <td>-1.000000</td>\n",
              "      <td>1.000000</td>\n",
              "      <td>0.000000</td>\n",
              "      <td>1.000000</td>\n",
              "      <td>-1.000000</td>\n",
              "    </tr>\n",
              "    <tr>\n",
              "      <th>50%</th>\n",
              "      <td>1.000000</td>\n",
              "      <td>-1.000000</td>\n",
              "      <td>1.000000</td>\n",
              "      <td>1.000000</td>\n",
              "      <td>1.000000</td>\n",
              "      <td>-1.000000</td>\n",
              "      <td>0.000000</td>\n",
              "      <td>1.000000</td>\n",
              "      <td>-1.000000</td>\n",
              "      <td>1.000000</td>\n",
              "      <td>...</td>\n",
              "      <td>1.000000</td>\n",
              "      <td>1.000000</td>\n",
              "      <td>1.000000</td>\n",
              "      <td>1.000000</td>\n",
              "      <td>1.000000</td>\n",
              "      <td>-1.000000</td>\n",
              "      <td>1.000000</td>\n",
              "      <td>0.000000</td>\n",
              "      <td>1.000000</td>\n",
              "      <td>1.000000</td>\n",
              "    </tr>\n",
              "    <tr>\n",
              "      <th>75%</th>\n",
              "      <td>1.000000</td>\n",
              "      <td>-1.000000</td>\n",
              "      <td>1.000000</td>\n",
              "      <td>1.000000</td>\n",
              "      <td>1.000000</td>\n",
              "      <td>-1.000000</td>\n",
              "      <td>1.000000</td>\n",
              "      <td>1.000000</td>\n",
              "      <td>1.000000</td>\n",
              "      <td>1.000000</td>\n",
              "      <td>...</td>\n",
              "      <td>1.000000</td>\n",
              "      <td>1.000000</td>\n",
              "      <td>1.000000</td>\n",
              "      <td>1.000000</td>\n",
              "      <td>1.000000</td>\n",
              "      <td>1.000000</td>\n",
              "      <td>1.000000</td>\n",
              "      <td>1.000000</td>\n",
              "      <td>1.000000</td>\n",
              "      <td>1.000000</td>\n",
              "    </tr>\n",
              "    <tr>\n",
              "      <th>max</th>\n",
              "      <td>1.000000</td>\n",
              "      <td>1.000000</td>\n",
              "      <td>1.000000</td>\n",
              "      <td>1.000000</td>\n",
              "      <td>1.000000</td>\n",
              "      <td>1.000000</td>\n",
              "      <td>1.000000</td>\n",
              "      <td>1.000000</td>\n",
              "      <td>1.000000</td>\n",
              "      <td>1.000000</td>\n",
              "      <td>...</td>\n",
              "      <td>1.000000</td>\n",
              "      <td>1.000000</td>\n",
              "      <td>1.000000</td>\n",
              "      <td>1.000000</td>\n",
              "      <td>1.000000</td>\n",
              "      <td>1.000000</td>\n",
              "      <td>1.000000</td>\n",
              "      <td>1.000000</td>\n",
              "      <td>1.000000</td>\n",
              "      <td>1.000000</td>\n",
              "    </tr>\n",
              "  </tbody>\n",
              "</table>\n",
              "<p>8 rows × 31 columns</p>\n",
              "</div>"
            ],
            "text/plain": [
              "       having_IP_Address    URL_Length  Shortening_Service  having_At_Symbol  \\\n",
              "count       11055.000000  11055.000000        11055.000000      11055.000000   \n",
              "mean            0.313795     -0.633198            0.738761          0.700588   \n",
              "std             0.949534      0.766095            0.673998          0.713598   \n",
              "min            -1.000000     -1.000000           -1.000000         -1.000000   \n",
              "25%            -1.000000     -1.000000            1.000000          1.000000   \n",
              "50%             1.000000     -1.000000            1.000000          1.000000   \n",
              "75%             1.000000     -1.000000            1.000000          1.000000   \n",
              "max             1.000000      1.000000            1.000000          1.000000   \n",
              "\n",
              "       double_slash_redirecting  Prefix_Suffix  having_Sub_Domain  \\\n",
              "count              11055.000000   11055.000000       11055.000000   \n",
              "mean                   0.741474      -0.734962           0.063953   \n",
              "std                    0.671011       0.678139           0.817518   \n",
              "min                   -1.000000      -1.000000          -1.000000   \n",
              "25%                    1.000000      -1.000000          -1.000000   \n",
              "50%                    1.000000      -1.000000           0.000000   \n",
              "75%                    1.000000      -1.000000           1.000000   \n",
              "max                    1.000000       1.000000           1.000000   \n",
              "\n",
              "       SSLfinal_State  Domain_registeration_length       Favicon  ...  \\\n",
              "count    11055.000000                 11055.000000  11055.000000  ...   \n",
              "mean         0.250927                    -0.336771      0.628584  ...   \n",
              "std          0.911892                     0.941629      0.777777  ...   \n",
              "min         -1.000000                    -1.000000     -1.000000  ...   \n",
              "25%         -1.000000                    -1.000000      1.000000  ...   \n",
              "50%          1.000000                    -1.000000      1.000000  ...   \n",
              "75%          1.000000                     1.000000      1.000000  ...   \n",
              "max          1.000000                     1.000000      1.000000  ...   \n",
              "\n",
              "        popUpWidnow        Iframe  age_of_domain     DNSRecord   web_traffic  \\\n",
              "count  11055.000000  11055.000000   11055.000000  11055.000000  11055.000000   \n",
              "mean       0.613388      0.816915       0.061239      0.377114      0.287291   \n",
              "std        0.789818      0.576784       0.998168      0.926209      0.827733   \n",
              "min       -1.000000     -1.000000      -1.000000     -1.000000     -1.000000   \n",
              "25%        1.000000      1.000000      -1.000000     -1.000000      0.000000   \n",
              "50%        1.000000      1.000000       1.000000      1.000000      1.000000   \n",
              "75%        1.000000      1.000000       1.000000      1.000000      1.000000   \n",
              "max        1.000000      1.000000       1.000000      1.000000      1.000000   \n",
              "\n",
              "          Page_Rank  Google_Index  Links_pointing_to_page  Statistical_report  \\\n",
              "count  11055.000000  11055.000000            11055.000000        11055.000000   \n",
              "mean      -0.483673      0.721574                0.344007            0.719584   \n",
              "std        0.875289      0.692369                0.569944            0.694437   \n",
              "min       -1.000000     -1.000000               -1.000000           -1.000000   \n",
              "25%       -1.000000      1.000000                0.000000            1.000000   \n",
              "50%       -1.000000      1.000000                0.000000            1.000000   \n",
              "75%        1.000000      1.000000                1.000000            1.000000   \n",
              "max        1.000000      1.000000                1.000000            1.000000   \n",
              "\n",
              "             Result  \n",
              "count  11055.000000  \n",
              "mean       0.113885  \n",
              "std        0.993539  \n",
              "min       -1.000000  \n",
              "25%       -1.000000  \n",
              "50%        1.000000  \n",
              "75%        1.000000  \n",
              "max        1.000000  \n",
              "\n",
              "[8 rows x 31 columns]"
            ]
          },
          "metadata": {
            "tags": []
          },
          "execution_count": 43
        }
      ]
    },
    {
      "cell_type": "code",
      "metadata": {
        "id": "7AaC2gb3mVWM",
        "outputId": "281b5eb9-045d-45f3-9e78-e098a5c1cb03"
      },
      "source": [
        "df.info()"
      ],
      "execution_count": null,
      "outputs": [
        {
          "output_type": "stream",
          "text": [
            "<class 'pandas.core.frame.DataFrame'>\n",
            "RangeIndex: 11055 entries, 0 to 11054\n",
            "Data columns (total 31 columns):\n",
            " #   Column                       Non-Null Count  Dtype\n",
            "---  ------                       --------------  -----\n",
            " 0   having_IP_Address            11055 non-null  int64\n",
            " 1   URL_Length                   11055 non-null  int64\n",
            " 2   Shortening_Service           11055 non-null  int64\n",
            " 3   having_At_Symbol             11055 non-null  int64\n",
            " 4   double_slash_redirecting     11055 non-null  int64\n",
            " 5   Prefix_Suffix                11055 non-null  int64\n",
            " 6   having_Sub_Domain            11055 non-null  int64\n",
            " 7   SSLfinal_State               11055 non-null  int64\n",
            " 8   Domain_registeration_length  11055 non-null  int64\n",
            " 9   Favicon                      11055 non-null  int64\n",
            " 10  port                         11055 non-null  int64\n",
            " 11  HTTPS_token                  11055 non-null  int64\n",
            " 12  Request_URL                  11055 non-null  int64\n",
            " 13  URL_of_Anchor                11055 non-null  int64\n",
            " 14  Links_in_tags                11055 non-null  int64\n",
            " 15  SFH                          11055 non-null  int64\n",
            " 16  Submitting_to_email          11055 non-null  int64\n",
            " 17  Abnormal_URL                 11055 non-null  int64\n",
            " 18  Redirect                     11055 non-null  int64\n",
            " 19  on_mouseover                 11055 non-null  int64\n",
            " 20  RightClick                   11055 non-null  int64\n",
            " 21  popUpWidnow                  11055 non-null  int64\n",
            " 22  Iframe                       11055 non-null  int64\n",
            " 23  age_of_domain                11055 non-null  int64\n",
            " 24  DNSRecord                    11055 non-null  int64\n",
            " 25  web_traffic                  11055 non-null  int64\n",
            " 26  Page_Rank                    11055 non-null  int64\n",
            " 27  Google_Index                 11055 non-null  int64\n",
            " 28  Links_pointing_to_page       11055 non-null  int64\n",
            " 29  Statistical_report           11055 non-null  int64\n",
            " 30  Result                       11055 non-null  int64\n",
            "dtypes: int64(31)\n",
            "memory usage: 2.6 MB\n"
          ],
          "name": "stdout"
        }
      ]
    },
    {
      "cell_type": "code",
      "metadata": {
        "id": "MPG0bBgzmVWM",
        "outputId": "8a663edc-f2b0-4bda-f9c0-ef0d33043cfe"
      },
      "source": [
        "for col in df:\n",
        "    print(df[col].name)\n",
        "    print(df[col].unique())"
      ],
      "execution_count": null,
      "outputs": [
        {
          "output_type": "stream",
          "text": [
            "having_IP_Address\n",
            "[-1  1]\n",
            "URL_Length\n",
            "[ 1  0 -1]\n",
            "Shortening_Service\n",
            "[ 1 -1]\n",
            "having_At_Symbol\n",
            "[ 1 -1]\n",
            "double_slash_redirecting\n",
            "[-1  1]\n",
            "Prefix_Suffix\n",
            "[-1  1]\n",
            "having_Sub_Domain\n",
            "[-1  0  1]\n",
            "SSLfinal_State\n",
            "[-1  1  0]\n",
            "Domain_registeration_length\n",
            "[-1  1]\n",
            "Favicon\n",
            "[ 1 -1]\n",
            "port\n",
            "[ 1 -1]\n",
            "HTTPS_token\n",
            "[-1  1]\n",
            "Request_URL\n",
            "[ 1 -1]\n",
            "URL_of_Anchor\n",
            "[-1  0  1]\n",
            "Links_in_tags\n",
            "[ 1 -1  0]\n",
            "SFH\n",
            "[-1  1  0]\n",
            "Submitting_to_email\n",
            "[-1  1]\n",
            "Abnormal_URL\n",
            "[-1  1]\n",
            "Redirect\n",
            "[0 1]\n",
            "on_mouseover\n",
            "[ 1 -1]\n",
            "RightClick\n",
            "[ 1 -1]\n",
            "popUpWidnow\n",
            "[ 1 -1]\n",
            "Iframe\n",
            "[ 1 -1]\n",
            "age_of_domain\n",
            "[-1  1]\n",
            "DNSRecord\n",
            "[-1  1]\n",
            "web_traffic\n",
            "[-1  0  1]\n",
            "Page_Rank\n",
            "[-1  1]\n",
            "Google_Index\n",
            "[ 1 -1]\n",
            "Links_pointing_to_page\n",
            "[ 1  0 -1]\n",
            "Statistical_report\n",
            "[-1  1]\n",
            "Result\n",
            "[-1  1]\n"
          ],
          "name": "stdout"
        }
      ]
    },
    {
      "cell_type": "code",
      "metadata": {
        "id": "Hyec6MHBmVWN",
        "outputId": "3d0b252c-7e09-459f-a233-50494bdb1731"
      },
      "source": [
        "#Counting and checking for null values\n",
        "df.isnull().sum()"
      ],
      "execution_count": null,
      "outputs": [
        {
          "output_type": "execute_result",
          "data": {
            "text/plain": [
              "having_IP_Address              0\n",
              "URL_Length                     0\n",
              "Shortening_Service             0\n",
              "having_At_Symbol               0\n",
              "double_slash_redirecting       0\n",
              "Prefix_Suffix                  0\n",
              "having_Sub_Domain              0\n",
              "SSLfinal_State                 0\n",
              "Domain_registeration_length    0\n",
              "Favicon                        0\n",
              "port                           0\n",
              "HTTPS_token                    0\n",
              "Request_URL                    0\n",
              "URL_of_Anchor                  0\n",
              "Links_in_tags                  0\n",
              "SFH                            0\n",
              "Submitting_to_email            0\n",
              "Abnormal_URL                   0\n",
              "Redirect                       0\n",
              "on_mouseover                   0\n",
              "RightClick                     0\n",
              "popUpWidnow                    0\n",
              "Iframe                         0\n",
              "age_of_domain                  0\n",
              "DNSRecord                      0\n",
              "web_traffic                    0\n",
              "Page_Rank                      0\n",
              "Google_Index                   0\n",
              "Links_pointing_to_page         0\n",
              "Statistical_report             0\n",
              "Result                         0\n",
              "dtype: int64"
            ]
          },
          "metadata": {
            "tags": []
          },
          "execution_count": 46
        }
      ]
    },
    {
      "cell_type": "code",
      "metadata": {
        "id": "t7Zg_ekkmVWN"
      },
      "source": [
        "# shuffling the rows in the dataset so that when splitting the train and test set are equally distributed\n",
        "df = df.sample(frac=1).reset_index(drop=True)"
      ],
      "execution_count": null,
      "outputs": []
    },
    {
      "cell_type": "code",
      "metadata": {
        "scrolled": true,
        "id": "yPK_1fQCmVWN",
        "outputId": "ae35e76a-a3b6-419c-b5c6-5234dfb952d5"
      },
      "source": [
        "df.head(10)"
      ],
      "execution_count": null,
      "outputs": [
        {
          "output_type": "execute_result",
          "data": {
            "text/html": [
              "<div>\n",
              "<style scoped>\n",
              "    .dataframe tbody tr th:only-of-type {\n",
              "        vertical-align: middle;\n",
              "    }\n",
              "\n",
              "    .dataframe tbody tr th {\n",
              "        vertical-align: top;\n",
              "    }\n",
              "\n",
              "    .dataframe thead th {\n",
              "        text-align: right;\n",
              "    }\n",
              "</style>\n",
              "<table border=\"1\" class=\"dataframe\">\n",
              "  <thead>\n",
              "    <tr style=\"text-align: right;\">\n",
              "      <th></th>\n",
              "      <th>having_IP_Address</th>\n",
              "      <th>URL_Length</th>\n",
              "      <th>Shortening_Service</th>\n",
              "      <th>having_At_Symbol</th>\n",
              "      <th>double_slash_redirecting</th>\n",
              "      <th>Prefix_Suffix</th>\n",
              "      <th>having_Sub_Domain</th>\n",
              "      <th>SSLfinal_State</th>\n",
              "      <th>Domain_registeration_length</th>\n",
              "      <th>Favicon</th>\n",
              "      <th>...</th>\n",
              "      <th>popUpWidnow</th>\n",
              "      <th>Iframe</th>\n",
              "      <th>age_of_domain</th>\n",
              "      <th>DNSRecord</th>\n",
              "      <th>web_traffic</th>\n",
              "      <th>Page_Rank</th>\n",
              "      <th>Google_Index</th>\n",
              "      <th>Links_pointing_to_page</th>\n",
              "      <th>Statistical_report</th>\n",
              "      <th>Result</th>\n",
              "    </tr>\n",
              "  </thead>\n",
              "  <tbody>\n",
              "    <tr>\n",
              "      <th>0</th>\n",
              "      <td>-1</td>\n",
              "      <td>-1</td>\n",
              "      <td>1</td>\n",
              "      <td>1</td>\n",
              "      <td>1</td>\n",
              "      <td>-1</td>\n",
              "      <td>-1</td>\n",
              "      <td>-1</td>\n",
              "      <td>1</td>\n",
              "      <td>1</td>\n",
              "      <td>...</td>\n",
              "      <td>1</td>\n",
              "      <td>1</td>\n",
              "      <td>1</td>\n",
              "      <td>1</td>\n",
              "      <td>1</td>\n",
              "      <td>-1</td>\n",
              "      <td>1</td>\n",
              "      <td>0</td>\n",
              "      <td>1</td>\n",
              "      <td>-1</td>\n",
              "    </tr>\n",
              "    <tr>\n",
              "      <th>1</th>\n",
              "      <td>1</td>\n",
              "      <td>-1</td>\n",
              "      <td>1</td>\n",
              "      <td>1</td>\n",
              "      <td>1</td>\n",
              "      <td>1</td>\n",
              "      <td>1</td>\n",
              "      <td>1</td>\n",
              "      <td>1</td>\n",
              "      <td>1</td>\n",
              "      <td>...</td>\n",
              "      <td>1</td>\n",
              "      <td>1</td>\n",
              "      <td>1</td>\n",
              "      <td>1</td>\n",
              "      <td>-1</td>\n",
              "      <td>1</td>\n",
              "      <td>1</td>\n",
              "      <td>0</td>\n",
              "      <td>1</td>\n",
              "      <td>1</td>\n",
              "    </tr>\n",
              "    <tr>\n",
              "      <th>2</th>\n",
              "      <td>1</td>\n",
              "      <td>-1</td>\n",
              "      <td>1</td>\n",
              "      <td>1</td>\n",
              "      <td>1</td>\n",
              "      <td>-1</td>\n",
              "      <td>-1</td>\n",
              "      <td>1</td>\n",
              "      <td>-1</td>\n",
              "      <td>1</td>\n",
              "      <td>...</td>\n",
              "      <td>1</td>\n",
              "      <td>1</td>\n",
              "      <td>-1</td>\n",
              "      <td>1</td>\n",
              "      <td>0</td>\n",
              "      <td>-1</td>\n",
              "      <td>1</td>\n",
              "      <td>0</td>\n",
              "      <td>1</td>\n",
              "      <td>-1</td>\n",
              "    </tr>\n",
              "    <tr>\n",
              "      <th>3</th>\n",
              "      <td>1</td>\n",
              "      <td>-1</td>\n",
              "      <td>1</td>\n",
              "      <td>-1</td>\n",
              "      <td>1</td>\n",
              "      <td>1</td>\n",
              "      <td>1</td>\n",
              "      <td>1</td>\n",
              "      <td>-1</td>\n",
              "      <td>-1</td>\n",
              "      <td>...</td>\n",
              "      <td>-1</td>\n",
              "      <td>-1</td>\n",
              "      <td>-1</td>\n",
              "      <td>1</td>\n",
              "      <td>1</td>\n",
              "      <td>-1</td>\n",
              "      <td>1</td>\n",
              "      <td>1</td>\n",
              "      <td>1</td>\n",
              "      <td>1</td>\n",
              "    </tr>\n",
              "    <tr>\n",
              "      <th>4</th>\n",
              "      <td>1</td>\n",
              "      <td>-1</td>\n",
              "      <td>1</td>\n",
              "      <td>1</td>\n",
              "      <td>1</td>\n",
              "      <td>-1</td>\n",
              "      <td>-1</td>\n",
              "      <td>1</td>\n",
              "      <td>1</td>\n",
              "      <td>1</td>\n",
              "      <td>...</td>\n",
              "      <td>1</td>\n",
              "      <td>1</td>\n",
              "      <td>1</td>\n",
              "      <td>1</td>\n",
              "      <td>1</td>\n",
              "      <td>-1</td>\n",
              "      <td>1</td>\n",
              "      <td>0</td>\n",
              "      <td>1</td>\n",
              "      <td>1</td>\n",
              "    </tr>\n",
              "    <tr>\n",
              "      <th>5</th>\n",
              "      <td>1</td>\n",
              "      <td>-1</td>\n",
              "      <td>1</td>\n",
              "      <td>1</td>\n",
              "      <td>1</td>\n",
              "      <td>-1</td>\n",
              "      <td>1</td>\n",
              "      <td>1</td>\n",
              "      <td>-1</td>\n",
              "      <td>1</td>\n",
              "      <td>...</td>\n",
              "      <td>1</td>\n",
              "      <td>1</td>\n",
              "      <td>1</td>\n",
              "      <td>1</td>\n",
              "      <td>-1</td>\n",
              "      <td>-1</td>\n",
              "      <td>1</td>\n",
              "      <td>0</td>\n",
              "      <td>1</td>\n",
              "      <td>1</td>\n",
              "    </tr>\n",
              "    <tr>\n",
              "      <th>6</th>\n",
              "      <td>-1</td>\n",
              "      <td>-1</td>\n",
              "      <td>1</td>\n",
              "      <td>1</td>\n",
              "      <td>1</td>\n",
              "      <td>-1</td>\n",
              "      <td>0</td>\n",
              "      <td>-1</td>\n",
              "      <td>1</td>\n",
              "      <td>1</td>\n",
              "      <td>...</td>\n",
              "      <td>1</td>\n",
              "      <td>1</td>\n",
              "      <td>-1</td>\n",
              "      <td>1</td>\n",
              "      <td>0</td>\n",
              "      <td>1</td>\n",
              "      <td>1</td>\n",
              "      <td>0</td>\n",
              "      <td>1</td>\n",
              "      <td>-1</td>\n",
              "    </tr>\n",
              "    <tr>\n",
              "      <th>7</th>\n",
              "      <td>-1</td>\n",
              "      <td>-1</td>\n",
              "      <td>-1</td>\n",
              "      <td>1</td>\n",
              "      <td>-1</td>\n",
              "      <td>1</td>\n",
              "      <td>1</td>\n",
              "      <td>1</td>\n",
              "      <td>-1</td>\n",
              "      <td>1</td>\n",
              "      <td>...</td>\n",
              "      <td>1</td>\n",
              "      <td>1</td>\n",
              "      <td>1</td>\n",
              "      <td>-1</td>\n",
              "      <td>1</td>\n",
              "      <td>-1</td>\n",
              "      <td>1</td>\n",
              "      <td>1</td>\n",
              "      <td>1</td>\n",
              "      <td>1</td>\n",
              "    </tr>\n",
              "    <tr>\n",
              "      <th>8</th>\n",
              "      <td>1</td>\n",
              "      <td>1</td>\n",
              "      <td>1</td>\n",
              "      <td>1</td>\n",
              "      <td>1</td>\n",
              "      <td>-1</td>\n",
              "      <td>1</td>\n",
              "      <td>1</td>\n",
              "      <td>-1</td>\n",
              "      <td>1</td>\n",
              "      <td>...</td>\n",
              "      <td>1</td>\n",
              "      <td>1</td>\n",
              "      <td>1</td>\n",
              "      <td>1</td>\n",
              "      <td>1</td>\n",
              "      <td>-1</td>\n",
              "      <td>1</td>\n",
              "      <td>0</td>\n",
              "      <td>1</td>\n",
              "      <td>1</td>\n",
              "    </tr>\n",
              "    <tr>\n",
              "      <th>9</th>\n",
              "      <td>-1</td>\n",
              "      <td>1</td>\n",
              "      <td>1</td>\n",
              "      <td>-1</td>\n",
              "      <td>1</td>\n",
              "      <td>-1</td>\n",
              "      <td>-1</td>\n",
              "      <td>1</td>\n",
              "      <td>1</td>\n",
              "      <td>1</td>\n",
              "      <td>...</td>\n",
              "      <td>1</td>\n",
              "      <td>1</td>\n",
              "      <td>1</td>\n",
              "      <td>1</td>\n",
              "      <td>-1</td>\n",
              "      <td>-1</td>\n",
              "      <td>1</td>\n",
              "      <td>-1</td>\n",
              "      <td>1</td>\n",
              "      <td>1</td>\n",
              "    </tr>\n",
              "  </tbody>\n",
              "</table>\n",
              "<p>10 rows × 31 columns</p>\n",
              "</div>"
            ],
            "text/plain": [
              "   having_IP_Address  URL_Length  Shortening_Service  having_At_Symbol  \\\n",
              "0                 -1          -1                   1                 1   \n",
              "1                  1          -1                   1                 1   \n",
              "2                  1          -1                   1                 1   \n",
              "3                  1          -1                   1                -1   \n",
              "4                  1          -1                   1                 1   \n",
              "5                  1          -1                   1                 1   \n",
              "6                 -1          -1                   1                 1   \n",
              "7                 -1          -1                  -1                 1   \n",
              "8                  1           1                   1                 1   \n",
              "9                 -1           1                   1                -1   \n",
              "\n",
              "   double_slash_redirecting  Prefix_Suffix  having_Sub_Domain  SSLfinal_State  \\\n",
              "0                         1             -1                 -1              -1   \n",
              "1                         1              1                  1               1   \n",
              "2                         1             -1                 -1               1   \n",
              "3                         1              1                  1               1   \n",
              "4                         1             -1                 -1               1   \n",
              "5                         1             -1                  1               1   \n",
              "6                         1             -1                  0              -1   \n",
              "7                        -1              1                  1               1   \n",
              "8                         1             -1                  1               1   \n",
              "9                         1             -1                 -1               1   \n",
              "\n",
              "   Domain_registeration_length  Favicon  ...  popUpWidnow  Iframe  \\\n",
              "0                            1        1  ...            1       1   \n",
              "1                            1        1  ...            1       1   \n",
              "2                           -1        1  ...            1       1   \n",
              "3                           -1       -1  ...           -1      -1   \n",
              "4                            1        1  ...            1       1   \n",
              "5                           -1        1  ...            1       1   \n",
              "6                            1        1  ...            1       1   \n",
              "7                           -1        1  ...            1       1   \n",
              "8                           -1        1  ...            1       1   \n",
              "9                            1        1  ...            1       1   \n",
              "\n",
              "   age_of_domain  DNSRecord  web_traffic  Page_Rank  Google_Index  \\\n",
              "0              1          1            1         -1             1   \n",
              "1              1          1           -1          1             1   \n",
              "2             -1          1            0         -1             1   \n",
              "3             -1          1            1         -1             1   \n",
              "4              1          1            1         -1             1   \n",
              "5              1          1           -1         -1             1   \n",
              "6             -1          1            0          1             1   \n",
              "7              1         -1            1         -1             1   \n",
              "8              1          1            1         -1             1   \n",
              "9              1          1           -1         -1             1   \n",
              "\n",
              "   Links_pointing_to_page  Statistical_report  Result  \n",
              "0                       0                   1      -1  \n",
              "1                       0                   1       1  \n",
              "2                       0                   1      -1  \n",
              "3                       1                   1       1  \n",
              "4                       0                   1       1  \n",
              "5                       0                   1       1  \n",
              "6                       0                   1      -1  \n",
              "7                       1                   1       1  \n",
              "8                       0                   1       1  \n",
              "9                      -1                   1       1  \n",
              "\n",
              "[10 rows x 31 columns]"
            ]
          },
          "metadata": {
            "tags": []
          },
          "execution_count": 48
        }
      ]
    },
    {
      "cell_type": "markdown",
      "metadata": {
        "id": "C1Fl4kkKmVWO"
      },
      "source": [
        "<b>Quick observation:</b> The dataset has no null values. So further processing will not be done such as replace or deleting null rows. data is ready for traning, before training we visualise the data"
      ]
    },
    {
      "cell_type": "markdown",
      "metadata": {
        "id": "yr7dc_i4mVWO"
      },
      "source": [
        "# Visually Displaying data"
      ]
    },
    {
      "cell_type": "code",
      "metadata": {
        "id": "rCM9nWb4mVWO",
        "outputId": "96b86b1e-eea7-4fed-f4bb-08fbf2da16fa"
      },
      "source": [
        "#Plotting the data distribution with a histogram\n",
        "df.hist(bins=40,figsize=(22,22))\n",
        "plt.show()"
      ],
      "execution_count": null,
      "outputs": [
        {
          "output_type": "display_data",
          "data": {
            "image/png": "[encoded data removed]",
            "text/plain": [
              "<Figure size 1584x1584 with 36 Axes>"
            ]
          },
          "metadata": {
            "tags": [],
            "needs_background": "light"
          }
        }
      ]
    },
    {
      "cell_type": "code",
      "metadata": {
        "id": "iVXWDN0PmVWO",
        "outputId": "cb463372-b6d9-4024-a284-91be51af30f1"
      },
      "source": [
        "#Correlation heatmap\n",
        "plt.figure(figsize=(13,11))\n",
        "sns.heatmap(df.corr())\n",
        "plt.show()"
      ],
      "execution_count": null,
      "outputs": [
        {
          "output_type": "display_data",
          "data": {
            "image/png": "[encoded data removed]",
            "text/plain": [
              "<Figure size 936x792 with 2 Axes>"
            ]
          },
          "metadata": {
            "tags": [],
            "needs_background": "light"
          }
        }
      ]
    },
    {
      "cell_type": "markdown",
      "metadata": {
        "id": "t5XOxEV7mVWP"
      },
      "source": [
        "# Training and Testing"
      ]
    },
    {
      "cell_type": "code",
      "metadata": {
        "id": "4ePSOkF3mVWP"
      },
      "source": [
        "from sklearn.model_selection import train_test_split\n",
        "import sklearn.linear_model as lm\n",
        "from sklearn import metrics\n",
        "from sklearn.linear_model import LogisticRegression\n",
        "from sklearn.neighbors import KNeighborsClassifier\n",
        "from sklearn.ensemble import RandomForestClassifier\n",
        "from sklearn.tree import DecisionTreeClassifier\n",
        "from sklearn.neural_network import MLPClassifier\n",
        "# from xgboost import XGBClassifier\n",
        "from sklearn.metrics import accuracy_score"
      ],
      "execution_count": null,
      "outputs": []
    },
    {
      "cell_type": "code",
      "metadata": {
        "id": "POVj5NHomVWP"
      },
      "source": [
        "y = df['Result']\n",
        "X = df.drop('Result',axis=1)"
      ],
      "execution_count": null,
      "outputs": []
    },
    {
      "cell_type": "code",
      "metadata": {
        "id": "nOuM9b0BmVWP"
      },
      "source": [
        "X_train, X_test, y_train, y_test = train_test_split(X, y,test_size = 0.2, random_state = 12)"
      ],
      "execution_count": null,
      "outputs": []
    },
    {
      "cell_type": "code",
      "metadata": {
        "id": "MECJfBDnmVWQ",
        "outputId": "1c131f6b-9d8b-4d75-805a-3bbddf83297b"
      },
      "source": [
        "print(len(X_train))\n",
        "print(len(X_test))\n",
        "print(len(y_train))\n",
        "print(len(y_test))"
      ],
      "execution_count": null,
      "outputs": [
        {
          "output_type": "stream",
          "text": [
            "8844\n",
            "2211\n",
            "8844\n",
            "2211\n"
          ],
          "name": "stdout"
        }
      ]
    },
    {
      "cell_type": "markdown",
      "metadata": {
        "id": "GJn5GyBbmVWQ"
      },
      "source": [
        "# Machine Learning Models\n",
        "From the dataset above, we have learnt that this is a Supervised Machine Learning. This dataset uses a classification problem, it has input URL classified as phishing (-1) or legitimate (1). The supervised machine learning models (classification) considered to train the dataset in this notebook are:\n",
        "\n",
        "1. Decision Tree\n",
        "2. LogisticRegression\n",
        "3. RandomForestClassifiers\n",
        "4. KNeighborsClassifier"
      ]
    },
    {
      "cell_type": "code",
      "metadata": {
        "id": "TLB5Y7VOmVWQ"
      },
      "source": [
        "# Creating holders to store the model performance results\n",
        "ML_Model = []\n",
        "acc_train = []\n",
        "acc_test = []\n",
        "\n",
        "#function to call for storing the results\n",
        "def storeResults(model, a,b):\n",
        "  ML_Model.append(model)\n",
        "  acc_train.append(round(a, 3))\n",
        "  acc_test.append(round(b, 3))"
      ],
      "execution_count": null,
      "outputs": []
    },
    {
      "cell_type": "markdown",
      "metadata": {
        "id": "dBAv5H7zmVWR"
      },
      "source": [
        "### LOGISTIC REGRESSION"
      ]
    },
    {
      "cell_type": "code",
      "metadata": {
        "id": "xeKPeC_ymVWR"
      },
      "source": [
        "# instantiate the model \n",
        "model = LogisticRegression(max_iter=1000)\n",
        "# fit the model \n",
        "model.fit(X_train,np.ravel(y_train,order='C'))\n",
        "#predicting the target value from the model for the samples\n",
        "y_predict= model.predict(X_test)\n",
        "y_train_model = model.predict(X_train)\n",
        "y_test_model = model.predict(X_test)\n",
        "model_score=model.score(X_test, y_test)"
      ],
      "execution_count": null,
      "outputs": []
    },
    {
      "cell_type": "markdown",
      "metadata": {
        "id": "2JIdAqYomVWS"
      },
      "source": [
        "#### Performance Evaluation:"
      ]
    },
    {
      "cell_type": "code",
      "metadata": {
        "id": "k6NQQJpVmVWS",
        "outputId": "90e6a429-2d19-46f4-aca1-0353f36c92d2"
      },
      "source": [
        "#computing the accuracy of the model performance\n",
        "acc_train_model = accuracy_score(y_train,y_train_model)\n",
        "acc_test_model = accuracy_score(y_test,y_test_model)\n",
        "\n",
        "print(\"LogisticRegression: Accuracy on the Model: \",model_score)\n",
        "print(\"LogisticRegression: Accuracy on training Data: {:.3f}\".format(acc_train_model))\n",
        "print(\"LogisticRegression: Accuracy on test Data: {:.3f}\".format(acc_test_model))\n",
        "print(metrics.classification_report(y_test, y_predict))\n",
        "print(metrics.confusion_matrix(y_test, y_predict))"
      ],
      "execution_count": null,
      "outputs": [
        {
          "output_type": "stream",
          "text": [
            "LogisticRegression: Accuracy on the Model:  0.9308005427408412\n",
            "LogisticRegression: Accuracy on training Data: 0.928\n",
            "LogisticRegression: Accuracy on test Data: 0.931\n",
            "              precision    recall  f1-score   support\n",
            "\n",
            "          -1       0.94      0.90      0.92       975\n",
            "           1       0.93      0.95      0.94      1236\n",
            "\n",
            "    accuracy                           0.93      2211\n",
            "   macro avg       0.93      0.93      0.93      2211\n",
            "weighted avg       0.93      0.93      0.93      2211\n",
            "\n",
            "[[ 882   93]\n",
            " [  60 1176]]\n"
          ],
          "name": "stdout"
        }
      ]
    },
    {
      "cell_type": "code",
      "metadata": {
        "id": "5ZkV8U1umVWS"
      },
      "source": [
        "#storing the results. The below mentioned order of parameter passing is important.\n",
        "#Caution: Execute only once to avoid duplications.\n",
        "storeResults('LogisticRegression', acc_train_model, acc_test_model)"
      ],
      "execution_count": null,
      "outputs": []
    },
    {
      "cell_type": "markdown",
      "metadata": {
        "id": "CRxe0ULEmVWT"
      },
      "source": [
        "# Decision Tree Classifier"
      ]
    },
    {
      "cell_type": "code",
      "metadata": {
        "id": "c7_nfipbmVWT"
      },
      "source": [
        "from sklearn.tree import DecisionTreeClassifier\n",
        "\n",
        "# instantiate the model \n",
        "tree = DecisionTreeClassifier(max_depth = 5)\n",
        "# fit the model \n",
        "tree.fit(X_train, y_train)\n",
        "#predicting the target value from the model for the samples\n",
        "y_test_tree = tree.predict(X_test)\n",
        "y_train_tree = tree.predict(X_train)\n",
        "\n",
        "tree_score=model.score(X_test, y_test)"
      ],
      "execution_count": null,
      "outputs": []
    },
    {
      "cell_type": "markdown",
      "metadata": {
        "id": "As_7aosdmVWT"
      },
      "source": [
        "#### Performance Evaluation:"
      ]
    },
    {
      "cell_type": "code",
      "metadata": {
        "id": "Zu-QPP6GmVWU",
        "outputId": "403068c3-20fd-4d07-b982-f53424ba71e3"
      },
      "source": [
        "#computing the accuracy of the model performance\n",
        "acc_train_tree = accuracy_score(y_train,y_train_tree)\n",
        "acc_test_tree = accuracy_score(y_test,y_test_tree)\n",
        "\n",
        "print(\"Decision Tree: Accuracy on the Model: \",tree_score)\n",
        "print(\"Decision Tree: Accuracy on training Data: {:.3f}\".format(acc_train_tree))\n",
        "print(\"Decision Tree: Accuracy on test Data: {:.3f}\".format(acc_test_tree))\n",
        "print(metrics.classification_report(y_test, y_predict))\n",
        "print(metrics.confusion_matrix(y_test, y_predict))"
      ],
      "execution_count": null,
      "outputs": [
        {
          "output_type": "stream",
          "text": [
            "Decision Tree: Accuracy on the Model:  0.9308005427408412\n",
            "Decision Tree: Accuracy on training Data: 0.922\n",
            "Decision Tree: Accuracy on test Data: 0.926\n",
            "              precision    recall  f1-score   support\n",
            "\n",
            "          -1       0.94      0.90      0.92       975\n",
            "           1       0.93      0.95      0.94      1236\n",
            "\n",
            "    accuracy                           0.93      2211\n",
            "   macro avg       0.93      0.93      0.93      2211\n",
            "weighted avg       0.93      0.93      0.93      2211\n",
            "\n",
            "[[ 882   93]\n",
            " [  60 1176]]\n"
          ],
          "name": "stdout"
        }
      ]
    },
    {
      "cell_type": "code",
      "metadata": {
        "id": "wznFc29WmVWV",
        "outputId": "4dbd6148-6bec-4886-a809-3663c94a46df"
      },
      "source": [
        "plt.figure(figsize=(9,10))\n",
        "n_features = X_train.shape[1]\n",
        "plt.barh(range(n_features), tree.feature_importances_, align='center')\n",
        "plt.yticks(np.arange(n_features), X_train.columns)\n",
        "plt.xlabel(\"Feature importance\")\n",
        "plt.ylabel(\"Feature\")\n",
        "plt.show()"
      ],
      "execution_count": null,
      "outputs": [
        {
          "output_type": "display_data",
          "data": {
            "image/png": "[encoded data removed]",
            "text/plain": [
              "<Figure size 648x720 with 1 Axes>"
            ]
          },
          "metadata": {
            "tags": [],
            "needs_background": "light"
          }
        }
      ]
    },
    {
      "cell_type": "code",
      "metadata": {
        "id": "oJsZeEOamVWV"
      },
      "source": [
        "#storing the results. The below mentioned order of parameter passing is important.\n",
        "#Caution: Execute only once to avoid duplications.\n",
        "storeResults('Decision Tree', acc_train_tree, acc_test_tree)"
      ],
      "execution_count": null,
      "outputs": []
    },
    {
      "cell_type": "markdown",
      "metadata": {
        "id": "hvVMh_XomVWV"
      },
      "source": [
        "# Random Forest Classifier "
      ]
    },
    {
      "cell_type": "code",
      "metadata": {
        "id": "SioLaeZZmVWV"
      },
      "source": [
        "# instantiate the model\n",
        "forest = RandomForestClassifier(max_depth=5)\n",
        "# fit the model \n",
        "forest.fit(X_train, y_train)\n",
        "#predicting the target value from the model for the samples\n",
        "y_test_forest = forest.predict(X_test)\n",
        "y_train_forest = forest.predict(X_train)\n",
        "model_score=model.score(X_test, y_test)"
      ],
      "execution_count": null,
      "outputs": []
    },
    {
      "cell_type": "markdown",
      "metadata": {
        "id": "WSPHzWfKmVWW"
      },
      "source": [
        "#### Performance Evaluation:"
      ]
    },
    {
      "cell_type": "code",
      "metadata": {
        "id": "g5K2Qe6qmVWW",
        "outputId": "a1961661-ef69-4d8c-c612-b5a1e1d6fe8e"
      },
      "source": [
        "#computing the accuracy of the model performance\n",
        "acc_train_forest = accuracy_score(y_train,y_train_forest)\n",
        "acc_test_forest = accuracy_score(y_test,y_test_forest)\n",
        "\n",
        "print(\"Random forest: Accuracy on the Model: \",model_score)\n",
        "print(\"Random forest: Accuracy on training Data: {:.3f}\".format(acc_train_forest))\n",
        "print(\"Random forest: Accuracy on test Data: {:.3f}\".format(acc_test_forest))\n",
        "print(metrics.classification_report(y_test, y_predict))\n",
        "print(metrics.confusion_matrix(y_test, y_predict))"
      ],
      "execution_count": null,
      "outputs": [
        {
          "output_type": "stream",
          "text": [
            "Random forest: Accuracy on the Model:  0.9308005427408412\n",
            "Random forest: Accuracy on training Data: 0.930\n",
            "Random forest: Accuracy on test Data: 0.931\n",
            "              precision    recall  f1-score   support\n",
            "\n",
            "          -1       0.94      0.90      0.92       975\n",
            "           1       0.93      0.95      0.94      1236\n",
            "\n",
            "    accuracy                           0.93      2211\n",
            "   macro avg       0.93      0.93      0.93      2211\n",
            "weighted avg       0.93      0.93      0.93      2211\n",
            "\n",
            "[[ 882   93]\n",
            " [  60 1176]]\n"
          ],
          "name": "stdout"
        }
      ]
    },
    {
      "cell_type": "code",
      "metadata": {
        "id": "yuZyXHt9mVWW",
        "outputId": "e2f0ade5-502a-498d-cac3-74e8dfc7378f"
      },
      "source": [
        "#checking the feature importance in the model to highlight which features may be most relevant to the target\n",
        "plt.figure(figsize=(9,10))\n",
        "n_features = X_train.shape[1]\n",
        "plt.barh(range(n_features), tree.feature_importances_, align='center')\n",
        "plt.yticks(np.arange(n_features), X_train.columns)\n",
        "plt.xlabel(\"Feature importance\")\n",
        "plt.ylabel(\"Feature\")\n",
        "plt.show()"
      ],
      "execution_count": null,
      "outputs": [
        {
          "output_type": "display_data",
          "data": {
            "image/png": "[encoded data removed]",
            "text/plain": [
              "<Figure size 648x720 with 1 Axes>"
            ]
          },
          "metadata": {
            "tags": [],
            "needs_background": "light"
          }
        }
      ]
    },
    {
      "cell_type": "code",
      "metadata": {
        "id": "y32BX3sKmVWX"
      },
      "source": [
        "#storing the results. The below mentioned order of parameter passing is important.\n",
        "#Caution: Execute only once to avoid duplications.\n",
        "storeResults('Random forest', acc_train_forest, acc_test_forest)"
      ],
      "execution_count": null,
      "outputs": []
    },
    {
      "cell_type": "markdown",
      "metadata": {
        "id": "qQrUKFT4mVWX"
      },
      "source": [
        "# KNeighborsClassifier"
      ]
    },
    {
      "cell_type": "code",
      "metadata": {
        "id": "29nUnrx_mVWX"
      },
      "source": [
        "# instantiate the model\n",
        "knn = KNeighborsClassifier(n_neighbors =1)\n",
        "# fit the model \n",
        "knn.fit(X_train,np.ravel(y_train,order='C'))\n",
        "#predicting the target value from the model for the samples\n",
        "y_predict= knn.predict(X_test)\n",
        "\n",
        "#predicting the target value from the model for the samples\n",
        "y_test_knn = knn.predict(X_test)\n",
        "y_train_knn = knn.predict(X_train)\n",
        "model_score=knn.score(X_test, y_test)"
      ],
      "execution_count": null,
      "outputs": []
    },
    {
      "cell_type": "markdown",
      "metadata": {
        "id": "nNvS1Cs7mVWX"
      },
      "source": [
        "#### Performance Evaluation:"
      ]
    },
    {
      "cell_type": "code",
      "metadata": {
        "id": "TQhPfjmEmVWX",
        "outputId": "dd8ac1c1-03e0-4ead-e76e-9c10f6e0c602"
      },
      "source": [
        "#computing the accuracy of the model performance\n",
        "acc_train_knn = accuracy_score(y_train,y_train_knn)\n",
        "acc_test_knn = accuracy_score(y_test,y_test_knn)\n",
        "\n",
        "print(\"KNeighborsClassifier: Accuracy on the Model: \",model_score)\n",
        "print(\"KNeighborsClassifier: Accuracy on training Data: {:.3f}\".format(acc_train_knn))\n",
        "print(\"KNeighborsClassifier: Accuracy on test Data: {:.3f}\".format(acc_test_knn))\n",
        "print(metrics.classification_report(y_test, y_predict))\n",
        "print(metrics.confusion_matrix(y_test, y_predict))"
      ],
      "execution_count": null,
      "outputs": [
        {
          "output_type": "stream",
          "text": [
            "KNeighborsClassifier: Accuracy on the Model:  0.952962460425147\n",
            "KNeighborsClassifier: Accuracy on training Data: 0.986\n",
            "KNeighborsClassifier: Accuracy on test Data: 0.953\n",
            "              precision    recall  f1-score   support\n",
            "\n",
            "          -1       0.95      0.95      0.95       975\n",
            "           1       0.96      0.96      0.96      1236\n",
            "\n",
            "    accuracy                           0.95      2211\n",
            "   macro avg       0.95      0.95      0.95      2211\n",
            "weighted avg       0.95      0.95      0.95      2211\n",
            "\n",
            "[[ 923   52]\n",
            " [  52 1184]]\n"
          ],
          "name": "stdout"
        }
      ]
    },
    {
      "cell_type": "code",
      "metadata": {
        "id": "uNwbAVt8mVWY",
        "outputId": "79aea2bf-f01e-4254-b852-355e51101746"
      },
      "source": [
        "#checking the feature importance in the model to highlight which features may be most relevant to the target\n",
        "plt.figure(figsize=(9,10))\n",
        "n_features = X_train.shape[1]\n",
        "plt.barh(range(n_features), tree.feature_importances_, align='center')\n",
        "plt.yticks(np.arange(n_features), X_train.columns)\n",
        "plt.xlabel(\"Feature importance\")\n",
        "plt.ylabel(\"Feature\")\n",
        "plt.show()"
      ],
      "execution_count": null,
      "outputs": [
        {
          "output_type": "display_data",
          "data": {
            "image/png": "[encoded data removed]",
            "text/plain": [
              "<Figure size 648x720 with 1 Axes>"
            ]
          },
          "metadata": {
            "tags": [],
            "needs_background": "light"
          }
        }
      ]
    },
    {
      "cell_type": "code",
      "metadata": {
        "id": "SYcvXLijmVWZ"
      },
      "source": [
        "#storing the results. The below mentioned order of parameter passing is important.\n",
        "#Caution: Execute only once to avoid duplications.\n",
        "storeResults('KNeighborsClassifier', acc_train_knn, acc_test_knn)"
      ],
      "execution_count": null,
      "outputs": []
    },
    {
      "cell_type": "markdown",
      "metadata": {
        "id": "QL58NRqimVWZ"
      },
      "source": [
        "# Comparision of Models\n",
        "To compare the models performance, a dataframe is created. The columns of this dataframe are the lists created to store the results of the model."
      ]
    },
    {
      "cell_type": "code",
      "metadata": {
        "id": "qKd0BP1wmVWZ",
        "outputId": "efbec6b1-c359-4b67-a198-461499d7cdbe"
      },
      "source": [
        "#creating dataframe\n",
        "results = pd.DataFrame({ 'ML Model': ML_Model,    \n",
        "    'Train Accuracy': acc_train,\n",
        "    'Test Accuracy': acc_test})\n",
        "results"
      ],
      "execution_count": null,
      "outputs": [
        {
          "output_type": "execute_result",
          "data": {
            "text/html": [
              "<div>\n",
              "<style scoped>\n",
              "    .dataframe tbody tr th:only-of-type {\n",
              "        vertical-align: middle;\n",
              "    }\n",
              "\n",
              "    .dataframe tbody tr th {\n",
              "        vertical-align: top;\n",
              "    }\n",
              "\n",
              "    .dataframe thead th {\n",
              "        text-align: right;\n",
              "    }\n",
              "</style>\n",
              "<table border=\"1\" class=\"dataframe\">\n",
              "  <thead>\n",
              "    <tr style=\"text-align: right;\">\n",
              "      <th></th>\n",
              "      <th>ML Model</th>\n",
              "      <th>Train Accuracy</th>\n",
              "      <th>Test Accuracy</th>\n",
              "    </tr>\n",
              "  </thead>\n",
              "  <tbody>\n",
              "    <tr>\n",
              "      <th>0</th>\n",
              "      <td>LogisticRegression</td>\n",
              "      <td>0.928</td>\n",
              "      <td>0.931</td>\n",
              "    </tr>\n",
              "    <tr>\n",
              "      <th>1</th>\n",
              "      <td>Decision Tree</td>\n",
              "      <td>0.922</td>\n",
              "      <td>0.926</td>\n",
              "    </tr>\n",
              "    <tr>\n",
              "      <th>2</th>\n",
              "      <td>Random forest</td>\n",
              "      <td>0.930</td>\n",
              "      <td>0.931</td>\n",
              "    </tr>\n",
              "    <tr>\n",
              "      <th>3</th>\n",
              "      <td>KNeighborsClassifier</td>\n",
              "      <td>0.986</td>\n",
              "      <td>0.953</td>\n",
              "    </tr>\n",
              "  </tbody>\n",
              "</table>\n",
              "</div>"
            ],
            "text/plain": [
              "               ML Model  Train Accuracy  Test Accuracy\n",
              "0    LogisticRegression           0.928          0.931\n",
              "1         Decision Tree           0.922          0.926\n",
              "2         Random forest           0.930          0.931\n",
              "3  KNeighborsClassifier           0.986          0.953"
            ]
          },
          "metadata": {
            "tags": []
          },
          "execution_count": 107
        }
      ]
    },
    {
      "cell_type": "code",
      "metadata": {
        "id": "X2MIaDSBmVWa",
        "outputId": "8a7f1512-f6c4-46a5-f6db-5045240fe2de"
      },
      "source": [
        "#Sorting the datafram on accuracy\n",
        "results.sort_values(by=['Test Accuracy', 'Train Accuracy'], ascending=False)"
      ],
      "execution_count": null,
      "outputs": [
        {
          "output_type": "execute_result",
          "data": {
            "text/html": [
              "<div>\n",
              "<style scoped>\n",
              "    .dataframe tbody tr th:only-of-type {\n",
              "        vertical-align: middle;\n",
              "    }\n",
              "\n",
              "    .dataframe tbody tr th {\n",
              "        vertical-align: top;\n",
              "    }\n",
              "\n",
              "    .dataframe thead th {\n",
              "        text-align: right;\n",
              "    }\n",
              "</style>\n",
              "<table border=\"1\" class=\"dataframe\">\n",
              "  <thead>\n",
              "    <tr style=\"text-align: right;\">\n",
              "      <th></th>\n",
              "      <th>ML Model</th>\n",
              "      <th>Train Accuracy</th>\n",
              "      <th>Test Accuracy</th>\n",
              "    </tr>\n",
              "  </thead>\n",
              "  <tbody>\n",
              "    <tr>\n",
              "      <th>3</th>\n",
              "      <td>KNeighborsClassifier</td>\n",
              "      <td>0.986</td>\n",
              "      <td>0.953</td>\n",
              "    </tr>\n",
              "    <tr>\n",
              "      <th>2</th>\n",
              "      <td>Random forest</td>\n",
              "      <td>0.930</td>\n",
              "      <td>0.931</td>\n",
              "    </tr>\n",
              "    <tr>\n",
              "      <th>0</th>\n",
              "      <td>LogisticRegression</td>\n",
              "      <td>0.928</td>\n",
              "      <td>0.931</td>\n",
              "    </tr>\n",
              "    <tr>\n",
              "      <th>1</th>\n",
              "      <td>Decision Tree</td>\n",
              "      <td>0.922</td>\n",
              "      <td>0.926</td>\n",
              "    </tr>\n",
              "  </tbody>\n",
              "</table>\n",
              "</div>"
            ],
            "text/plain": [
              "               ML Model  Train Accuracy  Test Accuracy\n",
              "3  KNeighborsClassifier           0.986          0.953\n",
              "2         Random forest           0.930          0.931\n",
              "0    LogisticRegression           0.928          0.931\n",
              "1         Decision Tree           0.922          0.926"
            ]
          },
          "metadata": {
            "tags": []
          },
          "execution_count": 108
        }
      ]
    },
    {
      "cell_type": "markdown",
      "metadata": {
        "id": "n-MhwtlPmVWa"
      },
      "source": [
        "### This is the end of the project."
      ]
    }
  ]
}